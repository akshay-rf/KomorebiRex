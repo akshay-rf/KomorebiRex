{
 "cells": [
  {
   "cell_type": "code",
   "execution_count": 40,
   "metadata": {},
   "outputs": [],
   "source": [
    "import sqlite3\n",
    "import pandas as pd"
   ]
  },
  {
   "cell_type": "code",
   "execution_count": 41,
   "metadata": {},
   "outputs": [],
   "source": [
    "xls = pd.ExcelFile(r\"C:\\Users\\gamer\\OneDrive\\Documents\\RecommendationEngine\\data.xlsx\")\n",
    "df_main = pd.read_excel(xls, 'Orders')\n",
    "df_returns = pd.read_excel(xls, 'Returns')\n"
   ]
  },
  {
   "cell_type": "code",
   "execution_count": 42,
   "metadata": {},
   "outputs": [],
   "source": [
    "df_main.columns = df_main.columns.str.strip()\n",
    "df_returns.columns = df_returns.columns.str.strip()"
   ]
  },
  {
   "cell_type": "code",
   "execution_count": 43,
   "metadata": {},
   "outputs": [],
   "source": [
    "connection = sqlite3.connect(\"demo.db\")\n",
    "cursor = connection.cursor()"
   ]
  },
  {
   "cell_type": "code",
   "execution_count": 44,
   "metadata": {},
   "outputs": [
    {
     "data": {
      "text/plain": [
       "1634"
      ]
     },
     "execution_count": 44,
     "metadata": {},
     "output_type": "execute_result"
    }
   ],
   "source": [
    "df_main.to_sql('superstore', connection, if_exists='replace')\n",
    "df_returns.to_sql('returns', connection, if_exists='replace')"
   ]
  },
  {
   "cell_type": "code",
   "execution_count": 45,
   "metadata": {},
   "outputs": [],
   "source": [
    "cursor.execute(\"\"\"\n",
    "    ALTER TABLE superstore\n",
    "    ADD COLUMN returned BOOLEAN\n",
    "\"\"\")\n",
    "\n",
    "connection.commit()"
   ]
  },
  {
   "cell_type": "code",
   "execution_count": 46,
   "metadata": {},
   "outputs": [],
   "source": [
    "cursor.execute(\"\"\"\n",
    "    UPDATE superstore\n",
    "    SET returned = 1\n",
    "    WHERE EXISTS (\n",
    "        SELECT 1 FROM returns\n",
    "        WHERE superstore.\"Order ID\" = returns.\"Order ID\"\n",
    "    )\n",
    "\"\"\")\n",
    "\n",
    "connection.commit()"
   ]
  },
  {
   "cell_type": "code",
   "execution_count": 47,
   "metadata": {},
   "outputs": [],
   "source": [
    "cursor.execute(\"\"\"\n",
    "    UPDATE superstore\n",
    "    SET returned = 0\n",
    "    WHERE returned IS NULL\n",
    "\"\"\")\n",
    "\n",
    "connection.commit()"
   ]
  },
  {
   "cell_type": "code",
   "execution_count": 48,
   "metadata": {},
   "outputs": [
    {
     "name": "stdout",
     "output_type": "stream",
     "text": [
      "Missing Values in 'superstore' dataset:\n",
      "index                    0\n",
      "Row ID                   0\n",
      "Order Priority           0\n",
      "Discount                 0\n",
      "Unit Price               0\n",
      "Shipping Cost            0\n",
      "Customer ID              0\n",
      "Customer Name            0\n",
      "Ship Mode                0\n",
      "Customer Segment         0\n",
      "Product Category         0\n",
      "Product Sub-Category     0\n",
      "Product Container        0\n",
      "Product Name             0\n",
      "Product Base Margin     72\n",
      "Region                   0\n",
      "State or Province        0\n",
      "City                     0\n",
      "Postal Code              0\n",
      "Order Date               0\n",
      "Ship Date                0\n",
      "Profit                   0\n",
      "Quantity ordered new     0\n",
      "Sales                    0\n",
      "Order ID                 0\n",
      "returned                 0\n",
      "dtype: int64\n"
     ]
    }
   ],
   "source": [
    "df_superstore = pd.read_sql_query(\"SELECT * FROM superstore\", connection)\n",
    "\n",
    "missing_values = df_superstore.isnull().sum()\n",
    "\n",
    "print(\"Missing Values in 'superstore' dataset:\")\n",
    "print(missing_values)\n"
   ]
  },
  {
   "cell_type": "code",
   "execution_count": 49,
   "metadata": {},
   "outputs": [
    {
     "name": "stdout",
     "output_type": "stream",
     "text": [
      "Number of rows with missing 'Product Base Margin' after deletion: 0\n"
     ]
    }
   ],
   "source": [
    "cursor.execute(\"DELETE FROM superstore WHERE [Product Base Margin] IS NULL\")\n",
    "\n",
    "connection.commit()\n",
    "\n",
    "cursor.execute(\"SELECT COUNT(*) FROM superstore WHERE [Product Base Margin] IS NULL\")\n",
    "missing_count_after_delete = cursor.fetchone()[0]\n",
    "print(\"Number of rows with missing 'Product Base Margin' after deletion:\", missing_count_after_delete)"
   ]
  },
  {
   "cell_type": "code",
   "execution_count": 50,
   "metadata": {},
   "outputs": [],
   "source": [
    "cursor.execute(\"\"\"\n",
    "DELETE FROM superstore\n",
    "WHERE [Product Name] IS NOT NULL\n",
    "  AND [Product Name] <> ''\n",
    "  AND [Product Name] GLOB '[0-9]*';\n",
    "\"\"\")\n",
    "\n",
    "connection.commit()"
   ]
  },
  {
   "cell_type": "code",
   "execution_count": 51,
   "metadata": {},
   "outputs": [
    {
     "name": "stdout",
     "output_type": "stream",
     "text": [
      "<class 'pandas.core.frame.DataFrame'>\n",
      "Index: 8914 entries, 18606 to 24492\n",
      "Data columns (total 24 columns):\n",
      " #   Column                Non-Null Count  Dtype  \n",
      "---  ------                --------------  -----  \n",
      " 0   Order Priority        8914 non-null   object \n",
      " 1   Discount              8914 non-null   float64\n",
      " 2   Unit Price            8914 non-null   float64\n",
      " 3   Shipping Cost         8914 non-null   float64\n",
      " 4   Customer ID           8914 non-null   int64  \n",
      " 5   Customer Name         8914 non-null   object \n",
      " 6   Ship Mode             8914 non-null   object \n",
      " 7   Customer Segment      8914 non-null   object \n",
      " 8   Product Category      8914 non-null   object \n",
      " 9   Product Sub-Category  8914 non-null   object \n",
      " 10  Product Container     8914 non-null   object \n",
      " 11  Product Name          8914 non-null   object \n",
      " 12  Product Base Margin   8914 non-null   float64\n",
      " 13  Region                8914 non-null   object \n",
      " 14  State or Province     8914 non-null   object \n",
      " 15  City                  8914 non-null   object \n",
      " 16  Postal Code           8914 non-null   int64  \n",
      " 17  Order Date            8914 non-null   object \n",
      " 18  Ship Date             8914 non-null   object \n",
      " 19  Profit                8914 non-null   float64\n",
      " 20  Quantity ordered new  8914 non-null   int64  \n",
      " 21  Sales                 8914 non-null   float64\n",
      " 22  Order ID              8914 non-null   int64  \n",
      " 23  returned              8914 non-null   int64  \n",
      "dtypes: float64(6), int64(5), object(13)\n",
      "memory usage: 1.7+ MB\n"
     ]
    }
   ],
   "source": [
    "query = pd.read_sql_query('SELECT * FROM superstore', connection)\n",
    "df = pd.DataFrame(query).drop(['index'], axis=1)\n",
    "\n",
    "df = df.set_index('Row ID')\n",
    "df.info()"
   ]
  },
  {
   "cell_type": "code",
   "execution_count": 52,
   "metadata": {},
   "outputs": [],
   "source": [
    "connection.close()"
   ]
  },
  {
   "cell_type": "code",
   "execution_count": null,
   "metadata": {},
   "outputs": [],
   "source": []
  }
 ],
 "metadata": {
  "kernelspec": {
   "display_name": "base",
   "language": "python",
   "name": "python3"
  },
  "language_info": {
   "codemirror_mode": {
    "name": "ipython",
    "version": 3
   },
   "file_extension": ".py",
   "mimetype": "text/x-python",
   "name": "python",
   "nbconvert_exporter": "python",
   "pygments_lexer": "ipython3",
   "version": "3.11.4"
  }
 },
 "nbformat": 4,
 "nbformat_minor": 2
}
